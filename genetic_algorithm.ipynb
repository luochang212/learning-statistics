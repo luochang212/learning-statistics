{
 "cells": [
  {
   "cell_type": "markdown",
   "metadata": {},
   "source": [
    "# 遗传算法\n",
    "\n",
    "遗传算法的步骤：\n",
    "\n",
    "1. 生成基因组，基因组是由0和1组成的二进制数\n",
    "2. 定义适应度函数，得到适应度 (fitness)\n",
    "3. 选择，在当前基因组集合中，以较高的概率选取适应度高的基因组\n",
    "4. 交叉，由夫代基因组通过交叉获得子代基因组 (crossover)\n",
    "5. 变异，基因组有一定几率发生变异 (matation)\n",
    "\n",
    "将以上过程迭代n次......"
   ]
  },
  {
   "cell_type": "markdown",
   "metadata": {},
   "source": [
    "## 1. 一个简单的任务\n",
    "\n",
    "我们先用遗传算法实现一个简单的任务：**寻找使`foo(x) = 0`的x值**"
   ]
  },
  {
   "cell_type": "code",
   "execution_count": 1,
   "metadata": {},
   "outputs": [],
   "source": [
    "# 绘图通用函数\n",
    "import matplotlib.pyplot as plt \n",
    "import matplotlib\n",
    "\n",
    "\n",
    "def draw(x_list, y_list):\n",
    "    plt.rcParams['font.sans-serif'] = ['Arial Unicode MS']  # 设置字体，使汉字能够正常显示\n",
    "    plt.rcParams['text.color'] = 'black'  # 设置字体颜色\n",
    "    matplotlib.rcParams['font.size'] = 15.0  # 设置字体大小\n",
    "\n",
    "    fig, ax = plt.subplots()\n",
    "    fig.set_size_inches(6, 4)  # 设置图片的长和高\n",
    "\n",
    "    plt.plot(x_list, y_list)\n",
    "    plt.show()\n"
   ]
  },
  {
   "cell_type": "code",
   "execution_count": 2,
   "metadata": {},
   "outputs": [
    {
     "data": {
      "image/png": "[encoded data removed]",
      "text/plain": [
       "<Figure size 432x288 with 1 Axes>"
      ]
     },
     "metadata": {
      "needs_background": "light"
     },
     "output_type": "display_data"
    }
   ],
   "source": [
    "# your function here\n",
    "def foo(x):\n",
    "    return 6 * (x + 3.53) ** 3 - 13.7\n",
    "\n",
    "x = [i for i in range(-10, 11)]\n",
    "y = [foo(e) for e in x]\n",
    "draw(x, y)"
   ]
  },
  {
   "cell_type": "markdown",
   "metadata": {},
   "source": [
    "通过数学的方法，我们可以轻易地知道使得`foo(x)=0`成立的`x = (13.7 / 6) ** (1/3) - 3.53`, x = -2.213190031442135.\n",
    "\n",
    "让我们看看遗传算法可以得到怎样的近似结果～"
   ]
  },
  {
   "cell_type": "code",
   "execution_count": 3,
   "metadata": {},
   "outputs": [
    {
     "name": "stdout",
     "output_type": "stream",
     "text": [
      "===gen 0: (-2.2266641367311717, 2.4023307115792574)===\n",
      "===gen 1: (-2.2032191779, 3.1890742374753693)===\n",
      "===gen 2: (-2.2132333781, 739.1625617552302)===\n",
      "===gen 3: (-2.2132301021000003, 799.591238739982)===\n",
      "===gen 4: (-2.2131806496, 3414.994971588051)===\n",
      "res: -2.2131806496\n"
     ]
    }
   ],
   "source": [
    "import sys\n",
    "import random\n",
    "\n",
    "\n",
    "class GeneticAlgorithm:\n",
    "    \"\"\"genetic algorithm\"\"\"\n",
    "\n",
    "    def __init__(self, x_min, x_max, foo, population_size=1000, selection_size=100, generation_num=100, mutation_rate=10 ** -2, accuracy=10, threshold=10 ** 3):\n",
    "        self.x_min = x_min  # 自变量x的寻参范围（最小值）\n",
    "        self.x_max = x_max  # 自变量x的寻参范围（最大值）\n",
    "        self.foo = foo  # 本例为寻找函数的零点，foo即为该函数\n",
    "        self.population_size = population_size  # 基因组的数量（1 generation）\n",
    "        self.selection_size = selection_size  # 每轮迭代中，有资格“生育”的基因组的数量\n",
    "        self.generation_num = generation_num  # 基因组迭代轮数\n",
    "        self.mutation_rate = mutation_rate  # 基因组发生变异概率\n",
    "        self.accuracy = accuracy  # 基因组所能表达的数值的精度为小数点后accuracy位\n",
    "        self.threshold = threshold  # fitness值达到threshold值时，退出循环\n",
    "        self.genome_length = max(len(self.init_genome(x_min)), len(self.init_genome(x_max)))  # 基因组（01字符串）的长度\n",
    "\n",
    "    def init_genome(self, x: float) -> str:\n",
    "        x_int = int(x * 10 ** self.accuracy)\n",
    "        return bin(x_int).replace('0b', '')\n",
    "\n",
    "    def generate_genome(self, x: float) -> str:\n",
    "        x_int = int(x * 10 ** self.accuracy)\n",
    "        return bin(x_int).replace('0b', '').zfill(self.genome_length)\n",
    "\n",
    "    def translate(self, genome: str) -> float:\n",
    "        return int(genome, 2) * 10 ** - self.accuracy\n",
    "\n",
    "    def fitness(self, x: int) -> float:\n",
    "        if self.foo(x) == 0:\n",
    "            return sys.maxsize\n",
    "        else:\n",
    "            return abs(1/self.foo(x))\n",
    "\n",
    "    def init_population(self) -> list:\n",
    "        return [random.uniform(self.x_min, self.x_max) for _ in range(self.population_size)]\n",
    "\n",
    "    def selection_pair(self, population) -> tuple:\n",
    "        return random.sample(population, 2)\n",
    "\n",
    "    def crossover(self, pair: tuple) -> str:\n",
    "        if len(pair) != 2 or len(pair[0]) != self.genome_length or len(pair[1]) != self.genome_length:\n",
    "            raise Exception(f'pair error: {pair}')\n",
    "        p = random.randint(0, self.genome_length)\n",
    "        return ''.join([pair[0][:p], pair[1][p:]])\n",
    "\n",
    "    def mutation(self, gemome: str, mutation_rate: float) -> str:\n",
    "        for i in range(self.genome_length):\n",
    "            r = random.random()\n",
    "            if r < mutation_rate:\n",
    "                replacement = '0' if gemome[i] == '1' else '1'\n",
    "                gemome = gemome[:i] + replacement + gemome[i+1:]\n",
    "\n",
    "        return gemome\n",
    "\n",
    "    def run(self):\n",
    "        population = self.init_population()\n",
    "        for index in range(self.generation_num):\n",
    "            solutions = []\n",
    "            for p in population:\n",
    "                solutions.append((p, self.fitness(p)))\n",
    "            sorted_solutions = sorted(solutions, key=lambda e: e[1], reverse=True)\n",
    "\n",
    "            # 满足阈值退出\n",
    "            best_fitness = sorted_solutions[0][1]\n",
    "            print(f\"===gen {index}: {sorted_solutions[0]}===\")\n",
    "            if best_fitness > self.threshold:\n",
    "                return sorted_solutions[0][0]\n",
    "\n",
    "            # 选择\n",
    "            selection = [e[0] for e in sorted_solutions[:self.selection_size]]\n",
    "\n",
    "            # 翻译：数值 -> 基因组\n",
    "            genomes = [self.generate_genome(e) for e in selection]\n",
    "            new_generation = []\n",
    "            for _ in range(self.population_size):\n",
    "                # 交叉\n",
    "                pair = self.selection_pair(genomes)\n",
    "                new_genome = self.crossover(pair)\n",
    "\n",
    "                # 变异\n",
    "                new_genome = self.mutation(new_genome, self.mutation_rate)\n",
    "\n",
    "                # 翻译：基因组 -> 数值\n",
    "                new_generation.append(self.translate(new_genome))\n",
    "\n",
    "            population = new_generation\n",
    "\n",
    "        # 满足阈值退出\n",
    "        best_fitness = sorted_solutions[0][1]\n",
    "        if best_fitness > self.threshold:\n",
    "            return sorted_solutions[0][0]\n",
    "        else:\n",
    "            print('can not find the solution.')\n",
    "\n",
    "        return None\n",
    "\n",
    "\n",
    "if __name__ == '__main__':\n",
    "    g = GeneticAlgorithm(x_min=-10, x_max=10, foo=lambda x: 6 * (x + 3.53) ** 3 - 13.7)\n",
    "    print('res:', g.run())\n"
   ]
  },
  {
   "cell_type": "markdown",
   "metadata": {},
   "source": [
    "## 2. 寻找最优拟合曲线\n",
    "\n",
    "首先，我们构造一组样本数据。然后：\n",
    "\n",
    "1. 用最小二乘法绘制拟合曲线\n",
    "2. 用遗传算法近似计算最小化残差平方和的曲线\n",
    "\n",
    "我们希望用1、2两种方法绘制的拟合曲线几近重合，让我们看看最终结果是否符合我们的预期。\n"
   ]
  },
  {
   "cell_type": "markdown",
   "metadata": {},
   "source": [
    "### (1) 构造样本数据集\n"
   ]
  },
  {
   "cell_type": "code",
   "execution_count": 4,
   "metadata": {},
   "outputs": [
    {
     "name": "stdout",
     "output_type": "stream",
     "text": [
      "x: [0, 1, 2, 3, 4, 5, 6, 7, 8, 9]\n",
      "y: [2.7623223947687303, 4.338905041732245, 7.9316423205878, 12.704009937435872, 13.844996357562719, 12.790235950569091, 21.23504673015577, 20.57083566361399, 31.08470115102174, 31.837678545808078]\n"
     ]
    }
   ],
   "source": [
    "import random\n",
    "\n",
    "# n为样本数\n",
    "n = 10\n",
    "\n",
    "# 自变量x\n",
    "x = list(range(n))\n",
    "\n",
    "# 利用random函数一次性生成y的值，然后记录下来\n",
    "foo = lambda e: 3 * e + 2\n",
    "\n",
    "# 因变量y\n",
    "y = [foo(i) + random.choice([-1, 1]) * random.randint(1, 8) * random.random() for i in x]\n",
    "\n",
    "print(f'x: {x}')\n",
    "print(f'y: {y}')"
   ]
  },
  {
   "cell_type": "code",
   "execution_count": 5,
   "metadata": {},
   "outputs": [
    {
     "data": {
      "text/plain": [
       "[<matplotlib.lines.Line2D at 0x7fcb4eab77d0>]"
      ]
     },
     "execution_count": 5,
     "metadata": {},
     "output_type": "execute_result"
    },
    {
     "data": {
      "image/png": "[encoded data removed]",
      "text/plain": [
       "<Figure size 432x288 with 1 Axes>"
      ]
     },
     "metadata": {
      "needs_background": "light"
     },
     "output_type": "display_data"
    }
   ],
   "source": [
    "# 绘制样本曲线\n",
    "import matplotlib.pyplot as plt\n",
    "\n",
    "plt.plot(x, y , '.')"
   ]
  },
  {
   "cell_type": "markdown",
   "metadata": {},
   "source": [
    "### (2) 最小二乘法的拟合曲线\n",
    "\n",
    "根据最小二乘法的计算公式，我们可以得到斜率$\\beta_{1}$和截距$\\beta_{0}$的估计量。\n",
    "\n",
    "$\\hat{\\beta}_{1}=\\frac{\\sum_{i=1}^{n}(x_{i}-\\bar{x})(y_{i}-\\bar{y})}{\\sum_{i=1}^{n}(x_{i}-\\bar{x})^{2}}$\n",
    "\n",
    "$\\hat{\\beta}_{0}=\\bar{y}-\\hat{\\beta}_{1} \\bar{x}$"
   ]
  },
  {
   "cell_type": "code",
   "execution_count": 6,
   "metadata": {},
   "outputs": [
    {
     "name": "stdout",
     "output_type": "stream",
     "text": [
      "mean_x: 4.5\n",
      "mean_y: 15.910037409325602\n",
      "beta_1: 3.25232178673138\n",
      "beta_0: 1.274589369034393\n"
     ]
    }
   ],
   "source": [
    "import numpy as np\n",
    "\n",
    "mean_x, mean_y = np.mean(x), np.mean(y)\n",
    "\n",
    "beta_1 = sum([(xx - mean_x) * (yy - mean_y) for xx, yy in zip(x, y)]) / sum([(xx - mean_x) ** 2 for xx in x])\n",
    "\n",
    "beta_0 = mean_y - beta_1 * mean_x\n",
    "\n",
    "print(f'mean_x: {mean_x}')\n",
    "print(f'mean_y: {mean_y}')\n",
    "print(f'beta_1: {beta_1}')\n",
    "print(f'beta_0: {beta_0}')"
   ]
  },
  {
   "cell_type": "markdown",
   "metadata": {},
   "source": [
    "我们来绘制最小二乘法的拟合曲线"
   ]
  },
  {
   "cell_type": "code",
   "execution_count": 7,
   "metadata": {},
   "outputs": [
    {
     "name": "stdout",
     "output_type": "stream",
     "text": [
      "ols_x: [0, 1, 2, 3, 4, 5, 6, 7, 8, 9]\n",
      "ols_y: [1.274589369034393, 4.526911155765773, 7.779232942497153, 11.031554729228533, 14.283876515959912, 17.53619830269129, 20.788520089422676, 24.040841876154055, 27.293163662885433, 30.545485449616812]\n"
     ]
    },
    {
     "data": {
      "text/plain": [
       "[<matplotlib.lines.Line2D at 0x7fcb4eb8bc50>]"
      ]
     },
     "execution_count": 7,
     "metadata": {},
     "output_type": "execute_result"
    },
    {
     "data": {
      "image/png": "[encoded data removed]",
      "text/plain": [
       "<Figure size 432x288 with 1 Axes>"
      ]
     },
     "metadata": {
      "needs_background": "light"
     },
     "output_type": "display_data"
    }
   ],
   "source": [
    "import matplotlib.pyplot as plt\n",
    "\n",
    "X_RANGE = (0, n)\n",
    "\n",
    "foo = lambda e: beta_1 * e + beta_0\n",
    "\n",
    "ols_x = [e for e in range(*X_RANGE)]\n",
    "ols_y = [foo(i) for i in ols_x]\n",
    "\n",
    "print(f'ols_x: {ols_x}')\n",
    "print(f'ols_y: {ols_y}')\n",
    "\n",
    "# 画图\n",
    "plt.plot(ols_x, ols_y , '-')  # 绘制OLS曲线\n",
    "plt.plot(x, y , '.')  # 绘制样本曲线"
   ]
  },
  {
   "cell_type": "markdown",
   "metadata": {},
   "source": [
    "### (3) 用遗传算法近似计算拟合曲线\n",
    "\n",
    "接下来，我们利用遗传算法，通过最小化残差的平方和，来近似地计算拟合曲线。\n",
    "\n",
    "在新的遗传算法实例中，我们需要调整的参数只有两个，分别是: beta_1和beta_0.\n",
    "\n",
    "为了让遗传算法得以实现，我们必须要在上面那个遗传算法类的基础上作出一些改进：\n",
    "\n",
    "1. 必须给出beta_1和beta_0的寻参范围\n",
    "2. 上面的类是单参数寻优，我们需要改成双参数寻优\n",
    "3. 我们需要改造fitness函数"
   ]
  },
  {
   "cell_type": "code",
   "execution_count": 8,
   "metadata": {},
   "outputs": [],
   "source": [
    "# input\n",
    "\n",
    "# 样本数据\n",
    "sample_xlist, sample_ylist = x, y\n",
    "\n",
    "# 寻参范围\n",
    "beta0_min= int(beta_0) - 5\n",
    "beta0_max= int(beta_0) + 5\n",
    "beta1_min= int(beta_1) - 5\n",
    "beta1_max= int(beta_1) + 5"
   ]
  },
  {
   "cell_type": "code",
   "execution_count": 9,
   "metadata": {},
   "outputs": [
    {
     "name": "stdout",
     "output_type": "stream",
     "text": [
      "===gen 0: ((0.8295798188339933, 3.290718046802011), 56.93435353969996)===\n",
      "===gen 1: ((1.1746960661, 3.2680322488), 56.100540746457625)===\n",
      "===gen 2: ((1.1870657576, 3.2620236834000003), 56.09866092591203)===\n",
      "===gen 3: ((1.1870657692, 3.2678240309), 56.09463580028024)===\n",
      "===gen 4: ((1.2352695495000001, 3.2620236998000003), 56.07960775379081)===\n",
      "===gen 5: ((1.2352726526, 3.2576632422), 56.07634267026923)===\n",
      "===gen 6: ((1.2291728668000002, 3.2629870673), 56.08110466569928)===\n",
      "===gen 7: ((1.2313485842, 3.2625718777), 56.0804050363867)===\n",
      "===gen 8: ((1.2296614918, 3.2615330823), 56.0787748714688)===\n",
      "===gen 9: ((1.2352709818, 3.2615330823), 56.07869944602218)===\n",
      "===gen 10: ((1.2313482676, 3.2615068679), 56.078650600928015)===\n",
      "===gen 11: ((1.233445829, 3.2615068679), 56.07861454571542)===\n",
      "===gen 12: ((1.2334461958, 3.2614921458), 56.07859204562897)===\n",
      "===gen 13: ((1.233445829, 3.2614920309), 56.078591869599514)===\n",
      "res: (1.233445829, 3.2614920309)\n"
     ]
    }
   ],
   "source": [
    "# 双参数遗传算法\n",
    "\n",
    "import sys\n",
    "import random\n",
    "\n",
    "\n",
    "class GeneticAlgorithm2Args:\n",
    "    \"\"\"genetic algorithm with 2 arguments\"\"\"\n",
    "\n",
    "    def __init__(self, beta0_min, beta0_max, beta1_min, beta1_max, arg_num, sample_xlist, sample_ylist, population_size=1000, selection_size=100, generation_num=100, mutation_rate=10 ** -2, accuracy=10, threshold=10 ** -2, convergent_value=10 ** -6):\n",
    "        self.beta0_min = beta0_min\n",
    "        self.beta0_max = beta0_max\n",
    "        self.beta1_min = beta1_min\n",
    "        self.beta1_max = beta1_max\n",
    "        self.arg_num = arg_num\n",
    "        self.sample_xlist = sample_xlist\n",
    "        self.sample_ylist = sample_ylist\n",
    "        self.population_size = population_size\n",
    "        self.selection_size = selection_size\n",
    "        self.generation_num = generation_num\n",
    "        self.mutation_rate = mutation_rate\n",
    "        self.accuracy = accuracy\n",
    "        self.threshold = threshold\n",
    "        self.genome_length = max([len(self.init_genome(var)) for var in {beta0_min, beta0_max, beta1_min, beta1_max}])\n",
    "        self.convergent_value = convergent_value\n",
    "\n",
    "    def init_genome(self, var: float) -> str:\n",
    "        var_int = int(var * 10 ** self.accuracy)\n",
    "        return bin(var_int).replace('0b', '')\n",
    "\n",
    "    def generate_genome(self, var: float) -> str:\n",
    "        var_int = int(var * 10 ** self.accuracy)\n",
    "        return bin(var_int).replace('0b', '').zfill(self.genome_length)\n",
    "\n",
    "    def translate(self, genome: str) -> float:\n",
    "        return int(genome, 2) * 10 ** - self.accuracy\n",
    "\n",
    "    def fitness(self, vars: tuple) -> float:\n",
    "        \"\"\"适应性函数：最小化残差平方和\n",
    "\n",
    "        Args:\n",
    "            vars (tuple): (beta0, beta1)\n",
    "\n",
    "        Returns:\n",
    "            float: 适应值（值越小效果越好）\n",
    "        \"\"\"\n",
    "        return sum([(y - vars[0] - vars[1] * x) ** 2 for x, y in zip(self.sample_xlist, self.sample_ylist)])\n",
    "\n",
    "    def init_population(self, var_min: float, var_max: float) -> list:\n",
    "        return [random.uniform(var_min, var_max) for _ in range(self.population_size)]\n",
    "\n",
    "    def selection_pair(self, population, arg_num: int) -> list:\n",
    "        return [random.sample([e[index] for e in population], 2) for index in range(arg_num)]\n",
    "\n",
    "    def crossover(self, pairs: list) -> list:\n",
    "        new_pairs = []\n",
    "        for pair in pairs:\n",
    "            if len(pair) != 2 or len(pair[0]) != self.genome_length or len(pair[1]) != self.genome_length:\n",
    "                raise Exception(f'pair error: {pair}')\n",
    "            p = random.randint(0, self.genome_length)\n",
    "            new_pairs.append(''.join([pair[0][:p], pair[1][p:]]))\n",
    "\n",
    "        return new_pairs\n",
    "\n",
    "    def mutation(self, gemomes: str, mutation_rate: float) -> list:\n",
    "        new_gemomes = []\n",
    "        for gemome in gemomes:\n",
    "            for i in range(self.genome_length):\n",
    "                r = random.random()\n",
    "                if r < mutation_rate:\n",
    "                    replacement = '0' if gemome[i] == '1' else '1'\n",
    "                    gemome = gemome[:i] + replacement + gemome[i+1:]\n",
    "            new_gemomes.append(gemome)\n",
    "\n",
    "        return new_gemomes\n",
    "\n",
    "    def run(self):\n",
    "        fitness_list = [0 for _ in range(2)]\n",
    "\n",
    "        # 随机化beta0和beta1的初始值\n",
    "        population = [(beta0, beta1) for beta0, beta1 in zip(self.init_population(self.beta0_min, self.beta0_max), self.init_population(self.beta1_min, self.beta1_max))]\n",
    "        for index in range(self.generation_num):\n",
    "            solutions = []\n",
    "            for p in population:\n",
    "                solutions.append((p, self.fitness(p)))\n",
    "            sorted_solutions = sorted(solutions, key=lambda e: e[1], reverse=False)\n",
    "\n",
    "            # 满足阈值退出\n",
    "            best_fitness = sorted_solutions[0][1]\n",
    "            print(f\"===gen {index}: {sorted_solutions[0]}===\")\n",
    "            if best_fitness < self.threshold:\n",
    "                return sorted_solutions[0][0]\n",
    "            \n",
    "            # 记录最近两轮的fitness值\n",
    "            fitness_list.append(best_fitness)\n",
    "            fitness_list = fitness_list[-2:]\n",
    "\n",
    "            # 检查是否收敛\n",
    "            if abs(fitness_list[0] - fitness_list[1]) < self.convergent_value:\n",
    "                # 假设最后两轮fitness值相差小于self.convergent_value为收敛\n",
    "                return sorted_solutions[0][0]\n",
    "\n",
    "            # 选择\n",
    "            selection = [e[0] for e in sorted_solutions[:self.selection_size]]\n",
    "\n",
    "            # 翻译：数值 -> 基因组\n",
    "            genomes = [tuple(self.generate_genome(elem) for elem in elems) for elems in selection]\n",
    "\n",
    "            new_generation = []\n",
    "            for _ in range(self.population_size):\n",
    "                # 交叉\n",
    "                pairs = self.selection_pair(genomes, self.arg_num)\n",
    "                new_genomes = self.crossover(pairs)\n",
    "\n",
    "                # 变异\n",
    "                new_genomes = self.mutation(new_genomes, self.mutation_rate)\n",
    "\n",
    "                # 翻译：基因组 -> 数值\n",
    "                new_generation.append(tuple(self.translate(new_genome) for new_genome in new_genomes))\n",
    "\n",
    "            population = new_generation\n",
    "\n",
    "        return None\n",
    "\n",
    "\n",
    "if __name__ == '__main__':\n",
    "    g = GeneticAlgorithm2Args(beta0_min=beta0_min, beta0_max=beta0_max, beta1_min=beta1_min, beta1_max=beta1_max, arg_num=2, sample_xlist=sample_xlist, sample_ylist=sample_ylist)\n",
    "    esti_beta0, esti_beta1 = g.run()\n",
    "    print('res:', (esti_beta0, esti_beta1))\n"
   ]
  },
  {
   "cell_type": "markdown",
   "metadata": {},
   "source": [
    "上面运行结果中的$res[0]$是$beta0$的估计值，$res[1]$是$beta1$的估计值。\n",
    "\n",
    "试比较遗传算法是否比较精确地估计出了用最小二乘法计算出的估计值。如果估计比较精确，则我们可以认为：“最小二乘法公式”和“最小化残差平方和”两种方法是殊途同归的。"
   ]
  },
  {
   "cell_type": "markdown",
   "metadata": {},
   "source": [
    "绘制遗传算法估计的拟合曲线："
   ]
  },
  {
   "cell_type": "code",
   "execution_count": 10,
   "metadata": {},
   "outputs": [
    {
     "name": "stdout",
     "output_type": "stream",
     "text": [
      "genome_x: [0, 1, 2, 3, 4, 5, 6, 7, 8, 9]\n",
      "genome_y: [1.233445829, 4.4949378599, 7.7564298908, 11.017921921700001, 14.2794139526, 17.5409059835, 20.8023980144, 24.0638900453, 27.3253820762, 30.5868741071]\n"
     ]
    },
    {
     "data": {
      "text/plain": [
       "[<matplotlib.lines.Line2D at 0x7fcb4ec8a910>]"
      ]
     },
     "execution_count": 10,
     "metadata": {},
     "output_type": "execute_result"
    },
    {
     "data": {
      "image/png": "[encoded data removed]",
      "text/plain": [
       "<Figure size 432x288 with 1 Axes>"
      ]
     },
     "metadata": {
      "needs_background": "light"
     },
     "output_type": "display_data"
    }
   ],
   "source": [
    "import matplotlib.pyplot as plt\n",
    "\n",
    "X_RANGE = (0, n)\n",
    "\n",
    "foo = lambda e: esti_beta1 * e + esti_beta0\n",
    "\n",
    "genome_x = [e for e in range(*X_RANGE)]\n",
    "genome_y = [foo(i) for i in genome_x]\n",
    "\n",
    "print(f'genome_x: {genome_x}')\n",
    "print(f'genome_y: {genome_y}')\n",
    "\n",
    "# 画图\n",
    "plt.plot(ols_x, ols_y , '-')  # 绘制最小化残差平方和的曲线（采用遗传算法近似计算）\n",
    "plt.plot(x, y , '.')  # 绘制样本曲线"
   ]
  },
  {
   "cell_type": "code",
   "execution_count": null,
   "metadata": {},
   "outputs": [],
   "source": []
  }
 ],
 "metadata": {
  "kernelspec": {
   "display_name": "Python 3",
   "language": "python",
   "name": "python3"
  },
  "language_info": {
   "codemirror_mode": {
    "name": "ipython",
    "version": 3
   },
   "file_extension": ".py",
   "mimetype": "text/x-python",
   "name": "python",
   "nbconvert_exporter": "python",
   "pygments_lexer": "ipython3",
   "version": "3.7.4"
  }
 },
 "nbformat": 4,
 "nbformat_minor": 4
}
